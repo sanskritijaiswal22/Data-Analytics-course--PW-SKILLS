{
  "nbformat": 4,
  "nbformat_minor": 0,
  "metadata": {
    "colab": {
      "provenance": []
    },
    "kernelspec": {
      "name": "python3",
      "display_name": "Python 3"
    },
    "language_info": {
      "name": "python"
    }
  },
  "cells": [
    {
      "cell_type": "markdown",
      "source": [
        "# File Assignment\n",
        "\n",
        "### **Theory Question**\n",
        "\n",
        "\n",
        "\n",
        "1. What is the difference between interpreted and compiled languages?\n",
        "- **Compiled languages** convert the whole program into machine code at once before running it. This makes execution faster but takes time to compile. Examples: C, C++\n",
        "-  **Interpreted languages** run the program line by line without converting the whole code into machine code at once. They are easier to debug but slower in execution. Examples: Python, JavaScript.\n",
        "\n",
        "2. What is exception handling in Python?\n",
        "- **Exception handling** in Python is a way to manage errors so that the program doesn’t crash. If something goes wrong during the program's execution, we can use try, except blocks to catch and handle the error. It helps in writing safe and user-friendly programs.\n",
        "\n",
        "3. What is the purpose of the finally block in exception handling?\n",
        "- The finally block is used to write code that should always run, no matter whether an exception occurred or not. For example, closing a file or database connection. It ensures that important cleanup actions happen.\n",
        "\n",
        "4. What is logging in Python?\n",
        "- **Logging** means recording messages during the program's execution. Instead of using print() for debugging, we can use the logging module to track errors, warnings, and important events in a cleaner and more professional way.\n",
        "\n",
        "5. What is the significance of the __del__ method in Python?\n",
        "- The **__del__ method** is a special method that is called when an object is about to be deleted. It is mainly used for cleanup activities like closing files or releasing memory when an object is no longer needed.\n",
        "\n",
        "6. What is the difference between import and from ... import in Python?\n",
        "\n",
        "- **import module:** This imports the whole module, and we access functions like module.function().\n",
        "\n",
        "- from module import something: This imports only specific parts, so we can use the function directly like function() without module name.\n",
        "7. How can you handle multiple exceptions in Python?\n",
        "- We can handle multiple exceptions using:"
      ],
      "metadata": {
        "id": "srUlIKihgjv1"
      }
    },
    {
      "cell_type": "code",
      "source": [
        "try:\n",
        "    number = int(input(\"Enter a number: \"))     # May raise ValueError\n",
        "    result = 10 / number                        # May raise ZeroDivisionError\n",
        "    print(\"Result is:\", result)\n",
        "\n",
        "except ValueError:\n",
        "    print(\"Invalid input! Please enter a valid integer.\")\n",
        "\n",
        "except ZeroDivisionError:\n",
        "    print(\"Cannot divide by zero.\")\n",
        "\n",
        "except Exception as e:\n",
        "    print(\"An unexpected error occurred:\", e)\n"
      ],
      "metadata": {
        "id": "Ayiip5VbkSQv"
      },
      "execution_count": null,
      "outputs": []
    },
    {
      "cell_type": "markdown",
      "source": [
        "8.What is the purpose of the with statement when handling files in Python?\n",
        "\n",
        "- The with statement in Python is used to simplify file handling. It automatically opens and closes the file, even if an error occurs during file operations. This means you don’t have to manually close the file, which helps prevent mistakes like leaving files open accidentally."
      ],
      "metadata": {
        "id": "7SCAn-ocki-6"
      }
    },
    {
      "cell_type": "code",
      "source": [
        "# Create and write to the file first\n",
        "with open(\"data.txt\", \"w\") as file:\n",
        "    file.write(\"Hello Shaurya! This is Sanskriti's file.\")\n",
        "\n",
        "# Now read from the file\n",
        "with open(\"data.txt\", \"r\") as file:\n",
        "    content = file.read()\n",
        "    print(content)\n"
      ],
      "metadata": {
        "colab": {
          "base_uri": "https://localhost:8080/"
        },
        "id": "spYbVAAfnx6I",
        "outputId": "8cb98261-2fcf-4730-9312-1dc330dede4e"
      },
      "execution_count": 5,
      "outputs": [
        {
          "output_type": "stream",
          "name": "stdout",
          "text": [
            "Hello Shaurya! This is Sanskriti's file.\n"
          ]
        }
      ]
    },
    {
      "cell_type": "markdown",
      "source": [
        "9. What is the difference between multithreading and multiprocessing?\n",
        "\n",
        "- **Multithreading** allows multiple threads to run inside the same process, sharing the same memory. It is best for tasks that wait on input/output, like file reading or web requests.\n",
        "\n",
        "- **Multiprocessing** runs multiple processes, each with its own memory space. It is better for CPU-heavy tasks like complex calculations, because processes run independently.\n",
        "\n",
        "10. What are the advantages of using logging in a program?\n",
        "\n",
        "- Logging records what the program does, helping to find and fix errors easily. It provides different levels of messages (like info, warning, error) and can save logs to a file, unlike simple print statements.\n",
        "\n",
        "11. What is memory management in Python?\n",
        "\n",
        "- Memory management means how Python assigns and frees memory for storing data during program execution. Python automatically handles this, making sure memory is used efficiently.\n",
        "\n",
        "12. What are the basic steps involved in exception handling in Python?\n",
        "\n",
        "- Write risky code inside a try block.\n",
        "\n",
        "- Use except blocks to catch and handle errors.\n",
        "\n",
        "- Optionally, use an else block to run code if no error occurs.\n",
        "\n",
        "- Optionally, use a finally block to run code regardless of errors (for cleanup).\n",
        "\n",
        "13. Why is memory management important in Python?\n",
        "\n",
        "- It is important because poor memory use can slow down or crash programs. Good memory management keeps programs fast and stable.\n",
        "\n",
        "14. What is the role of try and except in exception handling?\n",
        "\n",
        "- The try block contains code that might cause errors. The except block catches those errors and stops the program from crashing, so it can continue running.\n",
        "\n",
        "15. How does Python's garbage collection system work?\n",
        "\n",
        "- Python uses a garbage collector that tracks unused objects and frees their memory automatically. It mainly uses reference counting and also detects circular references to avoid memory leaks.\n",
        "\n",
        "16. What is the purpose of the else block in exception handling?\n",
        "\n",
        "- The else block runs only if no exceptions occur in the try block. It is useful for code that should only execute when everything goes well.\n",
        "\n",
        "17. What are the common logging levels in Python?\n",
        "\n",
        "- Common logging levels include:\n",
        "\n",
        "- DEBUG: Detailed diagnostic info.\n",
        "\n",
        "- INFO: General program info.\n",
        "\n",
        "- WARNING: Something unexpected happened but the program still works.\n",
        "\n",
        "- ERROR: Serious problem that caused failure.\n",
        "\n",
        "- CRITICAL: Very serious error, program might stop.\n",
        "\n",
        "18. What is the difference between os.fork() and multiprocessing in Python?\n",
        "\n",
        "- os.fork() creates a new process by copying the current one but only works on Unix-based systems.\n",
        "- multiprocessing module works across platforms like Windows and Linux and provides a safer and easier way to manage processes.\n",
        "\n",
        "19. What is the importance of closing a file in Python?\n",
        "\n",
        "Closing a file releases the resources used by the file and ensures that all data is properly saved. If files remain open, it can cause memory leaks or data corruption. Using with statement helps close files automatically.\n",
        "\n",
        "20. What is the difference between file.read() and file.readline() in Python?\n",
        "\n",
        "- file.read() reads the entire content of a file at once and returns it as a single string. It’s useful when you want to get everything from the file in one go.\n",
        "\n",
        "- file.readline() reads the file line by line. Each time you call it, it returns the next line as a string, including the newline character at the end. It’s helpful when you want to process a file line by line.\n",
        "\n",
        "21. What is the logging module in Python used for?\n",
        "\n",
        "- The logging module in Python is used to record messages that show what a program is doing while running. It helps programmers track events, errors, or warnings in their code, making debugging and monitoring easier. Unlike print statements, logging can categorize messages by severity levels and save them to files.\n",
        "\n",
        "22. What is the os module in Python used for in file handling?\n",
        "\n",
        "- The os module provides functions to interact with the operating system. In file handling, it helps to create, remove, rename, or check files and directories. For example, you can check if a file exists before opening it or delete a file you no longer need.\n",
        "\n",
        "23. What are the challenges associated with memory management in Python?\n",
        "\n",
        "- Some challenges are:\n",
        "\n",
        "- Managing memory efficiently when many objects are created and deleted quickly.\n",
        "\n",
        "- Handling circular references where objects reference each other, which can prevent automatic memory freeing.\n",
        "\n",
        "- Avoiding memory leaks that slow down or crash the program.\n",
        "\n",
        "- Ensuring garbage collection doesn’t affect performance too much during program execution.\n",
        "\n",
        "24. How do you raise an exception manually in Python?\n",
        "\n",
        "- You can raise an exception manually using the raise statement. This is useful when you want to signal that an error or unexpected condition has happened in your code.\n",
        "\n",
        "Example:"
      ],
      "metadata": {
        "id": "fijDexWVn0sP"
      }
    },
    {
      "cell_type": "code",
      "source": [
        "def divide(a, b):\n",
        "    if b == 0:\n",
        "        raise ValueError(\"Cannot divide by zero!\")\n",
        "    return a / b\n"
      ],
      "metadata": {
        "id": "dDRyh5mGrEsZ"
      },
      "execution_count": 6,
      "outputs": []
    },
    {
      "cell_type": "markdown",
      "source": [
        "25. Why is it important to use multithreading in certain applications?\n",
        "\n",
        "- Multithreading is important because it allows a program to perform multiple tasks at the same time, especially when some tasks are waiting for input/output operations like reading files or web requests. This improves performance and responsiveness in applications like web servers or games.\n",
        "\n",
        "### **Pratical Question**\n",
        "\n",
        "1. How can you open a file for writing in Python and write a string to it?"
      ],
      "metadata": {
        "id": "4d870JqjrNmx"
      }
    },
    {
      "cell_type": "code",
      "source": [
        "with open(\"output.txt\", \"w\") as file:\n",
        "    file.write(\"Hello Shaurya! This is Sanskriti writing to the file.\")\n"
      ],
      "metadata": {
        "id": "Kz5SQ7Vhsq1W"
      },
      "execution_count": 7,
      "outputs": []
    },
    {
      "cell_type": "markdown",
      "source": [
        "2. Write a Python program to read the contents of a file and print each line"
      ],
      "metadata": {
        "id": "_VgBGZEAs6Jl"
      }
    },
    {
      "cell_type": "code",
      "source": [
        "try:\n",
        "    with open(\"input.txt\", \"r\") as file:\n",
        "        for line in file:\n",
        "            print(line.strip())\n",
        "except FileNotFoundError:\n",
        "    print(\"The file 'input.txt' does not exist. Please create it first.\")\n"
      ],
      "metadata": {
        "colab": {
          "base_uri": "https://localhost:8080/"
        },
        "id": "nhHUyFAatait",
        "outputId": "22ab6aa9-f4a5-43c9-dc6f-b9eb045091c0"
      },
      "execution_count": 9,
      "outputs": [
        {
          "output_type": "stream",
          "name": "stdout",
          "text": [
            "The file 'input.txt' does not exist. Please create it first.\n"
          ]
        }
      ]
    },
    {
      "cell_type": "markdown",
      "source": [
        "3. How would you handle a case where the file doesn't exist while trying to open it for reading?"
      ],
      "metadata": {
        "id": "kub3oKSPtjDk"
      }
    },
    {
      "cell_type": "code",
      "source": [
        "# Handling file not found error\n",
        "try:\n",
        "    with open(\"input.txt\", \"r\") as file:\n",
        "        print(file.read())\n",
        "except FileNotFoundError:\n",
        "    print(\"File not found. Please check the file name or path.\")\n"
      ],
      "metadata": {
        "colab": {
          "base_uri": "https://localhost:8080/"
        },
        "id": "s01C5t2Du90D",
        "outputId": "b3cd62b9-cf52-4ca5-fb9b-8459b67fbe85"
      },
      "execution_count": 10,
      "outputs": [
        {
          "output_type": "stream",
          "name": "stdout",
          "text": [
            "File not found. Please check the file name or path.\n"
          ]
        }
      ]
    },
    {
      "cell_type": "markdown",
      "source": [
        "4. Write a Python script that reads from one file and writes its content to another file."
      ],
      "metadata": {
        "id": "9NU08TBevD3p"
      }
    },
    {
      "cell_type": "code",
      "source": [
        "# Copying contents from one file to another with error handling\n",
        "try:\n",
        "    with open(\"source.txt\", \"r\") as src:\n",
        "        content = src.read()\n",
        "\n",
        "    with open(\"destination.txt\", \"w\") as dest:\n",
        "        dest.write(content)\n",
        "\n",
        "    print(\"File copied successfully.\")\n",
        "\n",
        "except FileNotFoundError:\n",
        "    print(\"source.txt file not found. Please create the file first.\")\n",
        "\n"
      ],
      "metadata": {
        "colab": {
          "base_uri": "https://localhost:8080/"
        },
        "id": "9A58hDZ3vGWr",
        "outputId": "2ed67d83-b5ce-4b32-bed8-25105342ed11"
      },
      "execution_count": 12,
      "outputs": [
        {
          "output_type": "stream",
          "name": "stdout",
          "text": [
            "source.txt file not found. Please create the file first.\n"
          ]
        }
      ]
    },
    {
      "cell_type": "markdown",
      "source": [
        "5. How would you catch and handle division by zero error in Python?"
      ],
      "metadata": {
        "id": "ZkUu8wyFvdf7"
      }
    },
    {
      "cell_type": "code",
      "source": [
        "# Handling division by zero\n",
        "try:\n",
        "    a = 10\n",
        "    b = 0\n",
        "    result = a / b\n",
        "except ZeroDivisionError:\n",
        "    print(\"You cannot divide a number by zero.\")\n"
      ],
      "metadata": {
        "colab": {
          "base_uri": "https://localhost:8080/"
        },
        "id": "RPRWx4ESvgkD",
        "outputId": "40c29b16-6c70-479a-c490-14e3a43e87bf"
      },
      "execution_count": 13,
      "outputs": [
        {
          "output_type": "stream",
          "name": "stdout",
          "text": [
            "You cannot divide a number by zero.\n"
          ]
        }
      ]
    },
    {
      "cell_type": "markdown",
      "source": [
        "6. Write a Python program that logs an error message to a log file when a division by zero exception occurs."
      ],
      "metadata": {
        "id": "FnbsA4TSv6im"
      }
    },
    {
      "cell_type": "code",
      "source": [
        "import logging\n",
        "\n",
        "logging.basicConfig(filename=\"app.log\", level=logging.ERROR)\n",
        "\n",
        "try:\n",
        "    a = 10\n",
        "    b = 0\n",
        "    result = a / b\n",
        "except ZeroDivisionError as e:\n",
        "    logging.error(\"Division by zero occurred: %s\", e)\n"
      ],
      "metadata": {
        "colab": {
          "base_uri": "https://localhost:8080/"
        },
        "id": "WNi-96H6v7UW",
        "outputId": "dc45d639-4341-4bd7-9936-20430421247d"
      },
      "execution_count": 14,
      "outputs": [
        {
          "output_type": "stream",
          "name": "stderr",
          "text": [
            "ERROR:root:Division by zero occurred: division by zero\n"
          ]
        }
      ]
    },
    {
      "cell_type": "markdown",
      "source": [
        " 7. How do you log information at different levels (INFO, ERROR, WARNING) in Python using the logging module?"
      ],
      "metadata": {
        "id": "5gOTluY6v9V8"
      }
    },
    {
      "cell_type": "code",
      "source": [
        "import logging\n",
        "\n",
        "logging.basicConfig(filename=\"app.log\", level=logging.DEBUG)\n",
        "\n",
        "logging.info(\"This is an info message\")\n",
        "logging.warning(\"This is a warning message\")\n",
        "logging.error(\"This is an error message\")\n"
      ],
      "metadata": {
        "colab": {
          "base_uri": "https://localhost:8080/"
        },
        "id": "zDJp5ufvwDid",
        "outputId": "483b6323-36ba-4452-b1ee-831c62e7ebc9"
      },
      "execution_count": 15,
      "outputs": [
        {
          "output_type": "stream",
          "name": "stderr",
          "text": [
            "WARNING:root:This is a warning message\n",
            "ERROR:root:This is an error message\n"
          ]
        }
      ]
    },
    {
      "cell_type": "markdown",
      "source": [
        "8. Write a program to handle a file opening error using exception handling."
      ],
      "metadata": {
        "id": "4u9P6kkzwKMh"
      }
    },
    {
      "cell_type": "code",
      "source": [
        "try:\n",
        "    with open(\"nonexistent.txt\", \"r\") as file:\n",
        "        print(file.read())\n",
        "except FileNotFoundError:\n",
        "    print(\"File could not be opened because it does not exist.\")\n"
      ],
      "metadata": {
        "colab": {
          "base_uri": "https://localhost:8080/"
        },
        "id": "GW1eY66vwLCr",
        "outputId": "225f4eb2-3042-4c7f-8ae5-592e853a4b5c"
      },
      "execution_count": 16,
      "outputs": [
        {
          "output_type": "stream",
          "name": "stdout",
          "text": [
            "File could not be opened because it does not exist.\n"
          ]
        }
      ]
    },
    {
      "cell_type": "markdown",
      "source": [
        " 9. How can you read a file line by line and store its content in a list in Python?"
      ],
      "metadata": {
        "id": "3s7cXKbKwNhH"
      }
    },
    {
      "cell_type": "code",
      "source": [
        "lines = []\n",
        "try:\n",
        "    with open(\"source.txt\", \"r\") as file:\n",
        "        lines = file.readlines()\n",
        "    print(lines)\n",
        "except FileNotFoundError:\n",
        "    print(\"The file 'source.txt' was not found. Please make sure the file exists.\")\n"
      ],
      "metadata": {
        "colab": {
          "base_uri": "https://localhost:8080/"
        },
        "id": "IzcAvlZmwPhd",
        "outputId": "d3afa3d6-9b6f-4db6-83b4-1fc3b24de9e1"
      },
      "execution_count": 18,
      "outputs": [
        {
          "output_type": "stream",
          "name": "stdout",
          "text": [
            "The file 'source.txt' was not found. Please make sure the file exists.\n"
          ]
        }
      ]
    },
    {
      "cell_type": "markdown",
      "source": [
        "10. How can you append data to an existing file in Python?"
      ],
      "metadata": {
        "id": "bdSIwNKDwcGI"
      }
    },
    {
      "cell_type": "code",
      "source": [
        "# This code appends a line to an existing file\n",
        "try:\n",
        "    with open(\"source.txt\", \"a\") as file:\n",
        "        file.write(\"\\nThis line was added using append mode.\")\n",
        "    print(\"Data appended successfully.\")\n",
        "except FileNotFoundError:\n",
        "    print(\"The file does not exist.\")\n"
      ],
      "metadata": {
        "colab": {
          "base_uri": "https://localhost:8080/"
        },
        "id": "mAo1UetDwe4X",
        "outputId": "1f3716c9-7cc1-42fe-ccb6-6f024f7a5335"
      },
      "execution_count": 21,
      "outputs": [
        {
          "output_type": "stream",
          "name": "stdout",
          "text": [
            "Data appended successfully.\n"
          ]
        }
      ]
    },
    {
      "cell_type": "markdown",
      "source": [
        "11. Write a Python program that uses a try-except block to handle an error when attempting to access a dictionary key that doesn't exist."
      ],
      "metadata": {
        "id": "1PBLk_s8wyNI"
      }
    },
    {
      "cell_type": "code",
      "source": [
        "student = {\"name\": \"Sanskriti\", \"age\": 21}\n",
        "\n",
        "try:\n",
        "    print(student[\"grade\"])\n",
        "except KeyError:\n",
        "    print(\"The key 'grade' does not exist in the dictionary.\")\n"
      ],
      "metadata": {
        "colab": {
          "base_uri": "https://localhost:8080/"
        },
        "id": "aMM4Z3LUw5Rl",
        "outputId": "e2f33e14-89dd-4a3f-a307-c10a56493787"
      },
      "execution_count": 22,
      "outputs": [
        {
          "output_type": "stream",
          "name": "stdout",
          "text": [
            "The key 'grade' does not exist in the dictionary.\n"
          ]
        }
      ]
    },
    {
      "cell_type": "markdown",
      "source": [
        " 12. Write a program that demonstrates using multiple except blocks to handle different types of exceptions"
      ],
      "metadata": {
        "id": "WwHBMeg9w8Xz"
      }
    },
    {
      "cell_type": "code",
      "source": [
        "try:\n",
        "    a = int(\"not a number\")\n",
        "    b = 10 / 0\n",
        "except ValueError:\n",
        "    print(\"Handled ValueError: Invalid conversion to integer.\")\n",
        "except ZeroDivisionError:\n",
        "    print(\"Handled ZeroDivisionError: Division by zero.\")\n"
      ],
      "metadata": {
        "colab": {
          "base_uri": "https://localhost:8080/"
        },
        "id": "YRhlQgBKw9dp",
        "outputId": "37107414-6bcd-4b0a-bafb-c8dc5700c7c0"
      },
      "execution_count": 23,
      "outputs": [
        {
          "output_type": "stream",
          "name": "stdout",
          "text": [
            "Handled ValueError: Invalid conversion to integer.\n"
          ]
        }
      ]
    },
    {
      "cell_type": "markdown",
      "source": [
        "13. How would you check if a file exists before attempting to read it in Python?"
      ],
      "metadata": {
        "id": "v6kftYpPw_o8"
      }
    },
    {
      "cell_type": "code",
      "source": [
        "import os\n",
        "\n",
        "filename = \"source.txt\"\n",
        "\n",
        "if os.path.exists(filename):\n",
        "    with open(filename, \"r\") as file:\n",
        "        print(file.read())\n",
        "else:\n",
        "    print(f\"The file '{filename}' does not exist.\")\n"
      ],
      "metadata": {
        "colab": {
          "base_uri": "https://localhost:8080/"
        },
        "id": "L1kzREedxEKV",
        "outputId": "ec086584-5ca6-42c8-c4fe-afbb9058e8f8"
      },
      "execution_count": 24,
      "outputs": [
        {
          "output_type": "stream",
          "name": "stdout",
          "text": [
            "\n",
            "This line was appended.\n",
            "This line was appended.\n",
            "This line was added using append mode.\n"
          ]
        }
      ]
    },
    {
      "cell_type": "markdown",
      "source": [
        "14. Write a program that uses the logging module to log both informational and error messages."
      ],
      "metadata": {
        "id": "lvlLCirRxHMA"
      }
    },
    {
      "cell_type": "code",
      "source": [
        "import logging\n",
        "\n",
        "logging.basicConfig(filename=\"logfile.log\", level=logging.DEBUG)\n",
        "\n",
        "logging.info(\"Program started successfully.\")\n",
        "try:\n",
        "    result = 10 / 0\n",
        "except ZeroDivisionError as e:\n",
        "    logging.error(\"An error occurred: %s\", e)\n"
      ],
      "metadata": {
        "colab": {
          "base_uri": "https://localhost:8080/"
        },
        "id": "b7Mk_oimxIFY",
        "outputId": "fa8f7d91-b67a-4af7-e594-eee5d5004050"
      },
      "execution_count": 25,
      "outputs": [
        {
          "output_type": "stream",
          "name": "stderr",
          "text": [
            "ERROR:root:An error occurred: division by zero\n"
          ]
        }
      ]
    },
    {
      "cell_type": "markdown",
      "source": [
        " 15. Write a Python program that prints the content of a file and handles the case when the file is empty.\n",
        "python\n",
        "Copy code\n"
      ],
      "metadata": {
        "id": "qGDY3YCVxLJX"
      }
    },
    {
      "cell_type": "code",
      "source": [
        "filename = \"source.txt\"\n",
        "\n",
        "try:\n",
        "    with open(filename, \"r\") as file:\n",
        "        content = file.read()\n",
        "        if content.strip() == \"\":\n",
        "            print(\"The file is empty.\")\n",
        "        else:\n",
        "            print(\"File content:\")\n",
        "            print(content)\n",
        "except FileNotFoundError:\n",
        "    print(f\"The file '{filename}' was not found.\")\n"
      ],
      "metadata": {
        "colab": {
          "base_uri": "https://localhost:8080/"
        },
        "id": "eXtrAwEoxL6k",
        "outputId": "84b81ce9-9a51-4d66-8cfe-b5689cda5f14"
      },
      "execution_count": 26,
      "outputs": [
        {
          "output_type": "stream",
          "name": "stdout",
          "text": [
            "File content:\n",
            "\n",
            "This line was appended.\n",
            "This line was appended.\n",
            "This line was added using append mode.\n"
          ]
        }
      ]
    },
    {
      "cell_type": "markdown",
      "source": [
        "15. Write a Python program that prints the content of a file and handles the case when the file is empty."
      ],
      "metadata": {
        "id": "8q1d4U0XxSKX"
      }
    },
    {
      "cell_type": "code",
      "source": [
        "filename = \"source.txt\"\n",
        "\n",
        "try:\n",
        "    with open(filename, \"r\") as file:\n",
        "        content = file.read()\n",
        "        if content.strip() == \"\":\n",
        "            print(\"The file is empty.\")\n",
        "        else:\n",
        "            print(\"File content:\")\n",
        "            print(content)\n",
        "except FileNotFoundError:\n",
        "    print(f\"The file '{filename}' was not found.\")\n"
      ],
      "metadata": {
        "colab": {
          "base_uri": "https://localhost:8080/"
        },
        "id": "Qm45N-ABxg6V",
        "outputId": "90768f6b-b66b-4f92-d6de-c1b1c9dbab21"
      },
      "execution_count": 27,
      "outputs": [
        {
          "output_type": "stream",
          "name": "stdout",
          "text": [
            "File content:\n",
            "\n",
            "This line was appended.\n",
            "This line was appended.\n",
            "This line was added using append mode.\n"
          ]
        }
      ]
    },
    {
      "cell_type": "markdown",
      "source": [
        "16. Demonstrate how to use memory profiling to check the memory usage of a small program."
      ],
      "metadata": {
        "id": "4duQlzPOxkVv"
      }
    },
    {
      "cell_type": "code",
      "source": [
        "import tracemalloc\n",
        "\n",
        "tracemalloc.start()\n",
        "\n",
        "def calculate_squares():\n",
        "    squares = [i**2 for i in range(1000)]\n",
        "    return squares\n",
        "\n",
        "calculate_squares()\n",
        "\n",
        "current, peak = tracemalloc.get_traced_memory()\n",
        "print(f\"Current memory usage: {current / 1024:.2f} KB\")\n",
        "print(f\"Peak memory usage: {peak / 1024:.2f} KB\")\n",
        "tracemalloc.stop()\n",
        "\n"
      ],
      "metadata": {
        "colab": {
          "base_uri": "https://localhost:8080/"
        },
        "id": "yOXIzvY6xlgB",
        "outputId": "c3803ce8-2522-4969-8cd7-c475cdc5b9f0"
      },
      "execution_count": 29,
      "outputs": [
        {
          "output_type": "stream",
          "name": "stdout",
          "text": [
            "Current memory usage: 2.83 KB\n",
            "Peak memory usage: 42.34 KB\n"
          ]
        }
      ]
    },
    {
      "cell_type": "markdown",
      "source": [
        "17. Write a Python program to create and write a list of numbers to a file, one number per line."
      ],
      "metadata": {
        "id": "IVnElr6hx7Uz"
      }
    },
    {
      "cell_type": "code",
      "source": [
        "numbers = [1, 2, 3, 4, 5]\n",
        "\n",
        "with open(\"numbers.txt\", \"w\") as file:\n",
        "    for number in numbers:\n",
        "        file.write(str(number) + \"\\n\")\n",
        "\n",
        "print(\"Numbers written to file.\")\n"
      ],
      "metadata": {
        "colab": {
          "base_uri": "https://localhost:8080/"
        },
        "id": "0yC_l0Tkx8iM",
        "outputId": "455aa345-8822-4362-b372-c5ba024bb9c2"
      },
      "execution_count": 30,
      "outputs": [
        {
          "output_type": "stream",
          "name": "stdout",
          "text": [
            "Numbers written to file.\n"
          ]
        }
      ]
    },
    {
      "cell_type": "markdown",
      "source": [
        "18. How would you implement a basic logging setup that logs to a file with rotation after 1MB?"
      ],
      "metadata": {
        "id": "lxm9HQXox-EX"
      }
    },
    {
      "cell_type": "code",
      "source": [
        "import logging\n",
        "from logging.handlers import RotatingFileHandler\n",
        "\n",
        "logger = logging.getLogger(\"MyLogger\")\n",
        "logger.setLevel(logging.INFO)\n",
        "\n",
        "handler = RotatingFileHandler(\"rotating_log.log\", maxBytes=1024*1024, backupCount=3)\n",
        "logger.addHandler(handler)\n",
        "\n",
        "logger.info(\"This is a test log message.\")\n"
      ],
      "metadata": {
        "colab": {
          "base_uri": "https://localhost:8080/"
        },
        "id": "DxH4aeZkyAHY",
        "outputId": "af4169a2-5920-4a67-ef87-7af0580101ee"
      },
      "execution_count": 31,
      "outputs": [
        {
          "output_type": "stream",
          "name": "stderr",
          "text": [
            "INFO:MyLogger:This is a test log message.\n"
          ]
        }
      ]
    },
    {
      "cell_type": "markdown",
      "source": [
        "19. Write a program that handles both IndexError and KeyError using a try-except block."
      ],
      "metadata": {
        "id": "gx9-82nbyCVC"
      }
    },
    {
      "cell_type": "code",
      "source": [
        "data = [10, 20, 30]\n",
        "info = {\"name\": \"Sanskriti\"}\n",
        "\n",
        "try:\n",
        "    print(data[5])\n",
        "    print(info[\"age\"])\n",
        "except IndexError:\n",
        "    print(\"IndexError handled: List index out of range.\")\n",
        "except KeyError:\n",
        "    print(\"KeyError handled: Dictionary key not found.\")\n"
      ],
      "metadata": {
        "colab": {
          "base_uri": "https://localhost:8080/"
        },
        "id": "VrSfGLlsyERy",
        "outputId": "526a582a-d347-476f-fa20-54e1f0413eec"
      },
      "execution_count": 32,
      "outputs": [
        {
          "output_type": "stream",
          "name": "stdout",
          "text": [
            "IndexError handled: List index out of range.\n"
          ]
        }
      ]
    },
    {
      "cell_type": "markdown",
      "source": [
        "20. How would you open a file and read its contents using a context manager in Python?"
      ],
      "metadata": {
        "id": "L6D5c7U5yHOW"
      }
    },
    {
      "cell_type": "code",
      "source": [
        "# Using 'with' ensures the file is automatically closed\n",
        "try:\n",
        "    with open(\"source.txt\", \"r\") as file:\n",
        "        content = file.read()\n",
        "        print(content)\n",
        "except FileNotFoundError:\n",
        "    print(\"File not found.\")\n"
      ],
      "metadata": {
        "colab": {
          "base_uri": "https://localhost:8080/"
        },
        "id": "bbZawFMjyIMc",
        "outputId": "7b937d0c-a051-47be-d371-b9b19fedfb36"
      },
      "execution_count": 33,
      "outputs": [
        {
          "output_type": "stream",
          "name": "stdout",
          "text": [
            "\n",
            "This line was appended.\n",
            "This line was appended.\n",
            "This line was added using append mode.\n"
          ]
        }
      ]
    },
    {
      "cell_type": "markdown",
      "source": [
        "21. Write a Python program that reads a file and prints the number of occurrences of a specific word.\n",
        "python\n",
        "Copy code\n"
      ],
      "metadata": {
        "id": "v1SGCGnLyNXz"
      }
    },
    {
      "cell_type": "code",
      "source": [
        "filename = \"source.txt\"\n",
        "search_word = \"python\"\n",
        "count = 0\n",
        "\n",
        "try:\n",
        "    with open(filename, \"r\") as file:\n",
        "        for line in file:\n",
        "            words = line.lower().split()\n",
        "            count += words.count(search_word.lower())\n",
        "\n",
        "    print(f\"The word '{search_word}' occurred {count} times in the file.\")\n",
        "except FileNotFoundError:\n",
        "    print(f\"The file '{filename}' was not found.\")\n"
      ],
      "metadata": {
        "colab": {
          "base_uri": "https://localhost:8080/"
        },
        "id": "S7plQ1haySkw",
        "outputId": "3ee604ae-8033-40f9-f566-3f4fa304eea5"
      },
      "execution_count": 34,
      "outputs": [
        {
          "output_type": "stream",
          "name": "stdout",
          "text": [
            "The word 'python' occurred 0 times in the file.\n"
          ]
        }
      ]
    },
    {
      "cell_type": "markdown",
      "source": [
        "22. How can you check if a file is empty before attempting to read its contents?"
      ],
      "metadata": {
        "id": "8--QlGA7yY9S"
      }
    },
    {
      "cell_type": "code",
      "source": [
        "filename = \"source.txt\"\n",
        "\n",
        "try:\n",
        "    with open(filename, \"r\") as file:\n",
        "        first_char = file.read(1)\n",
        "        if not first_char:\n",
        "            print(f\"The file '{filename}' is empty.\")\n",
        "        else:\n",
        "            print(f\"The file '{filename}' is not empty.\")\n",
        "except FileNotFoundError:\n",
        "    print(f\"The file '{filename}' was not found.\")\n"
      ],
      "metadata": {
        "colab": {
          "base_uri": "https://localhost:8080/"
        },
        "id": "iCBxtcd5ybFc",
        "outputId": "6bb1dd20-f63d-44b1-b4ca-2cdcf1ff73d7"
      },
      "execution_count": 35,
      "outputs": [
        {
          "output_type": "stream",
          "name": "stdout",
          "text": [
            "The file 'source.txt' is not empty.\n"
          ]
        }
      ]
    },
    {
      "cell_type": "markdown",
      "source": [
        " 23. Write a Python program that writes to a log file when an error occurs during file handling."
      ],
      "metadata": {
        "id": "22m6QHL4ydMl"
      }
    },
    {
      "cell_type": "code",
      "source": [
        "import logging\n",
        "\n",
        "# Configure logging to write to a file named error.log\n",
        "logging.basicConfig(filename='error.log', level=logging.ERROR,\n",
        "                    format='%(asctime)s:%(levelname)s:%(message)s')\n",
        "\n",
        "filename = \"non_existent_file.txt\"\n",
        "\n",
        "try:\n",
        "    with open(filename, \"r\") as file:\n",
        "        content = file.read()\n",
        "except FileNotFoundError as e:\n",
        "    logging.error(f\"Error occurred while opening file: {e}\")\n",
        "    print(f\"An error occurred. Check 'error.log' for details.\")\n"
      ],
      "metadata": {
        "colab": {
          "base_uri": "https://localhost:8080/"
        },
        "id": "Kgz14M1yygHC",
        "outputId": "c480e328-7b3a-41e9-c5d9-b7da9e91acde"
      },
      "execution_count": 36,
      "outputs": [
        {
          "output_type": "stream",
          "name": "stderr",
          "text": [
            "ERROR:root:Error occurred while opening file: [Errno 2] No such file or directory: 'non_existent_file.txt'\n"
          ]
        },
        {
          "output_type": "stream",
          "name": "stdout",
          "text": [
            "An error occurred. Check 'error.log' for details.\n"
          ]
        }
      ]
    }
  ]
}