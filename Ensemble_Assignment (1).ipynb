{
  "cells": [
    {
      "cell_type": "markdown",
      "id": "47c70abd",
      "metadata": {
        "id": "47c70abd"
      },
      "source": [
        "# Ensemble Learning — Assignment (Detailed, with Code & Plots)\n",
        "**Instructions:** Each question from the PDF is included verbatim, followed by a detailed, exam-style answer. Programming questions include step-by-step explanations, runnable code, and plots where appropriate.\n",
        "\n",
        "---"
      ]
    },
    {
      "cell_type": "markdown",
      "id": "7e2f6cbc",
      "metadata": {
        "id": "7e2f6cbc"
      },
      "source": [
        "## Question 1\n",
        "**What is Ensemble Learning in machine learning? Explain the key idea behind it.**\n",
        "\n",
        "### Answer\n",
        "\n",
        "**Ensemble learning** is a strategy where we combine predictions from multiple models (called *base learners*) to produce a single, superior prediction.\n",
        "The central idea is **“wisdom of the crowd”**: different models make different mistakes; when we aggregate them properly (e.g., averaging, voting, or stacking), the errors can cancel out and overall performance improves.\n",
        "\n",
        "**Why it works:**\n",
        "- **Reduces variance**: Averaging many high-variance models (like decision trees) stabilizes predictions.\n",
        "- **Reduces bias**: Carefully sequenced weak learners (boosting) can correct systematic errors (bias).\n",
        "- **Increases robustness**: Diverse models generalize better to unseen data.\n",
        "- **Common ensemble types**: **Bagging** (bootstrap aggregating), **Boosting** (sequential error-correction), and **Stacking** (meta-learner combines diverse models).\n",
        "\n",
        "\n",
        "---"
      ]
    },
    {
      "cell_type": "markdown",
      "id": "f8a8b82b",
      "metadata": {
        "id": "f8a8b82b"
      },
      "source": [
        "## Question 2\n",
        "**What is the difference between Bagging and Boosting?**\n",
        "\n",
        "### Answer\n",
        "\n",
        "**Bagging (Bootstrap Aggregating)**  \n",
        "- **How it trains:** Many models are trained **in parallel**, each on a different **bootstrap sample** (sampling with replacement) of the training data.  \n",
        "- **Goal:** Mainly **reduce variance** (tackle overfitting) by averaging/voting.  \n",
        "- **Combination:** Majority vote (classification) or average (regression).  \n",
        "- **Examples:** Random Forest (adds feature subsampling for extra diversity).  \n",
        "- **Pros:** Simple, robust, less prone to overfit than a single deep tree.  \n",
        "- **Cons:** Doesn’t strongly reduce bias if base learners are biased.\n",
        "\n",
        "**Boosting**  \n",
        "- **How it trains:** Models are built **sequentially**; each new model focuses on the **errors** of the previous ones (e.g., reweighting misclassified points).  \n",
        "- **Goal:** Mainly **reduce bias** and push accuracy higher.  \n",
        "- **Combination:** Weighted sum/vote of weak learners (often shallow trees).  \n",
        "- **Examples:** AdaBoost, Gradient Boosting, XGBoost, LightGBM, CatBoost.  \n",
        "- **Pros:** Often state-of-the-art accuracy on tabular data.  \n",
        "- **Cons:** Can **overfit** without regularization; more sensitive to noise; needs careful tuning.\n",
        "\n",
        "\n",
        "---"
      ]
    },
    {
      "cell_type": "markdown",
      "id": "f6d2ea75",
      "metadata": {
        "id": "f6d2ea75"
      },
      "source": [
        "## Question 3\n",
        "**What is bootstrap sampling and what role does it play in Bagging methods like Random Forest?**\n",
        "\n",
        "### Answer\n",
        "\n",
        "**Bootstrap sampling** creates a training subset by sampling **with replacement** from the original dataset (usually the same size as the original).\n",
        "Some points are duplicated; ~1/3 are left out on average (these are **Out-of-Bag** samples).\n",
        "\n",
        "**In Bagging/Random Forest:**  \n",
        "- Each base model (tree) is trained on a **different bootstrap sample**, creating **diversity** among trees.  \n",
        "- Random Forest adds **feature subsampling** at each split to further diversify.  \n",
        "- Aggregating across diverse trees **reduces variance** and improves generalization.\n",
        "\n",
        "\n",
        "---"
      ]
    },
    {
      "cell_type": "markdown",
      "id": "c08d2fe2",
      "metadata": {
        "id": "c08d2fe2"
      },
      "source": [
        "## Question 4\n",
        "**What are Out-of-Bag (OOB) samples and how is OOB score used to evaluate ensemble models?**\n",
        "\n",
        "### Answer\n",
        "\n",
        "When we draw a bootstrap sample for a given tree, the **OOB samples** are the training points that were **not selected** for that tree.  \n",
        "On average, about **36.8%** of the original data are OOB per bootstrap draw.\n",
        "\n",
        "**OOB score usage:**  \n",
        "- For each training point, aggregate predictions from **only those trees** where it was OOB.  \n",
        "- Compare these OOB predictions with true labels to get an **unbiased estimate** of generalization.  \n",
        "- This provides a **built-in validation** without needing a separate holdout set.\n",
        "\n",
        "\n",
        "---"
      ]
    },
    {
      "cell_type": "markdown",
      "id": "75f1dcb0",
      "metadata": {
        "id": "75f1dcb0"
      },
      "source": [
        "## Question 5\n",
        "**Compare feature importance analysis in a single Decision Tree vs. a Random Forest.**\n",
        "\n",
        "### Answer\n",
        "\n",
        "**Single Decision Tree:**  \n",
        "- Importance derives from **impurity decrease** contributed by splits using that feature.  \n",
        "- A single tree is **high-variance**; small data changes can lead to very different trees and importances.  \n",
        "- Can be **unstable** and sometimes **biased** toward features with many levels.\n",
        "\n",
        "**Random Forest:**  \n",
        "- Averages importance over **many trees** → **more stable, reliable** rankings.  \n",
        "- Two useful notions: **Mean Decrease in Impurity (MDI)** and **Permutation Importance** (measures performance drop when a feature is randomly permuted).  \n",
        "- Generally provides **global** and more **robust** importance signals than a single tree.\n",
        "\n",
        "\n",
        "---"
      ]
    },
    {
      "cell_type": "markdown",
      "id": "81b38a57",
      "metadata": {
        "id": "81b38a57"
      },
      "source": [
        "## Question 6\n",
        "**Write a Python program to:**\n",
        "- Load the Breast Cancer dataset using `sklearn.datasets.load_breast_cancer()`\n",
        "- Train a **Random Forest Classifier**\n",
        "- **Print the top 5** most important features based on feature importance scores.\n",
        "\n",
        "### Plan & Steps\n",
        "1. Load the dataset and split into train/test.\n",
        "2. Fit a `RandomForestClassifier`.\n",
        "3. Extract `feature_importances_`, sort them, and print the **top 5**.\n",
        "4. Plot a bar chart of the **top 10** importances for visualization."
      ]
    },
    {
      "cell_type": "code",
      "execution_count": 2,
      "id": "1039df66",
      "metadata": {
        "colab": {
          "base_uri": "https://localhost:8080/",
          "height": 611
        },
        "id": "1039df66",
        "outputId": "12d42e96-573a-4624-be46-fd94ffc16bc6"
      },
      "outputs": [
        {
          "output_type": "stream",
          "name": "stdout",
          "text": [
            "Top 5 features (feature : importance):\n",
            "worst perimeter : 0.1331\n",
            "worst area : 0.1281\n",
            "worst concave points : 0.1081\n",
            "mean concave points : 0.0944\n",
            "worst radius : 0.0906\n"
          ]
        },
        {
          "output_type": "display_data",
          "data": {
            "text/plain": [
              "<Figure size 900x500 with 1 Axes>"
            ],
            "image/png": "[encoded data removed]"
          },
          "metadata": {}
        }
      ],
      "source": [
        "\n",
        "# Question 6 — Random Forest on Breast Cancer (Top-5 Features + Plot)\n",
        "from sklearn.datasets import load_breast_cancer\n",
        "from sklearn.ensemble import RandomForestClassifier\n",
        "from sklearn.model_selection import train_test_split\n",
        "import numpy as np\n",
        "import matplotlib.pyplot as plt\n",
        "\n",
        "# 1) Load data\n",
        "data = load_breast_cancer()\n",
        "X, y = data.data, data.target\n",
        "feature_names = data.feature_names\n",
        "\n",
        "# 2) Train-test split\n",
        "X_train, X_test, y_train, y_test = train_test_split(\n",
        "    X, y, test_size=0.2, random_state=42, stratify=y\n",
        ")\n",
        "\n",
        "# 3) Train Random Forest\n",
        "rf = RandomForestClassifier(n_estimators=200, random_state=42)\n",
        "rf.fit(X_train, y_train)\n",
        "\n",
        "# 4) Get feature importances\n",
        "importances = rf.feature_importances_\n",
        "indices = np.argsort(importances)[::-1]\n",
        "\n",
        "print(\"Top 5 features (feature : importance):\")\n",
        "top_k = 5\n",
        "for i in indices[:top_k]:\n",
        "    print(f\"{feature_names[i]} : {importances[i]:.4f}\")\n",
        "\n",
        "# 5) Plot top-10 importances\n",
        "top10 = indices[:10]\n",
        "plt.figure(figsize=(9,5))\n",
        "plt.bar(range(10), importances[top10])\n",
        "plt.xticks(range(10), feature_names[top10], rotation=90)\n",
        "plt.title(\"Top 10 Feature Importances — Random Forest (Breast Cancer)\")\n",
        "plt.tight_layout()\n",
        "plt.show()\n"
      ]
    },
    {
      "cell_type": "markdown",
      "id": "f04f3884",
      "metadata": {
        "id": "f04f3884"
      },
      "source": [
        "## Question 7\n",
        "**Write a Python program to:**\n",
        "- Train a **Bagging Classifier** using Decision Trees on the **Iris** dataset\n",
        "- Evaluate its accuracy and **compare with a single Decision Tree**\n",
        "\n",
        "### Plan & Steps\n",
        "1. Load Iris and split data.\n",
        "2. Train a single `DecisionTreeClassifier` and record test accuracy.\n",
        "3. Train a `BaggingClassifier` with decision trees and compare accuracy.\n",
        "4. Interpretation: Bagging generally **reduces variance**, often giving a small accuracy boost."
      ]
    },
    {
      "cell_type": "code",
      "execution_count": 7,
      "id": "84b9de3f",
      "metadata": {
        "colab": {
          "base_uri": "https://localhost:8080/"
        },
        "id": "84b9de3f",
        "outputId": "4ad1a1cf-4315-4e45-9783-9a1221c17829"
      },
      "outputs": [
        {
          "output_type": "stream",
          "name": "stdout",
          "text": [
            "Single Decision Tree accuracy: 0.9737\n",
            "Bagging (Decision Trees) accuracy: 0.9737\n"
          ]
        }
      ],
      "source": [
        "\n",
        "# Question 7 — Bagging vs Single Decision Tree on Iris\n",
        "from sklearn.datasets import load_iris\n",
        "from sklearn.ensemble import BaggingClassifier\n",
        "from sklearn.tree import DecisionTreeClassifier\n",
        "from sklearn.metrics import accuracy_score\n",
        "from sklearn.model_selection import train_test_split\n",
        "\n",
        "# 1) Load data\n",
        "iris = load_iris()\n",
        "X, y = iris.data, iris.target\n",
        "\n",
        "# 2) Train-test split\n",
        "X_train, X_test, y_train, y_test = train_test_split(\n",
        "    X, y, test_size=0.25, random_state=1, stratify=y\n",
        ")\n",
        "\n",
        "# 3) Single Decision Tree\n",
        "dt = DecisionTreeClassifier(random_state=1)\n",
        "dt.fit(X_train, y_train)\n",
        "y_pred_dt = dt.predict(X_test)\n",
        "acc_dt = accuracy_score(y_test, y_pred_dt)\n",
        "\n",
        "# 4) Bagging with Decision Trees (updated parameter name)\n",
        "bag = BaggingClassifier(\n",
        "    estimator=DecisionTreeClassifier(),\n",
        "    n_estimators=50,\n",
        "    random_state=1\n",
        ")\n",
        "bag.fit(X_train, y_train)\n",
        "y_pred_bag = bag.predict(X_test)\n",
        "acc_bag = accuracy_score(y_test, y_pred_bag)\n",
        "\n",
        "print(f\"Single Decision Tree accuracy: {acc_dt:.4f}\")\n",
        "print(f\"Bagging (Decision Trees) accuracy: {acc_bag:.4f}\")\n",
        "\n"
      ]
    },
    {
      "cell_type": "markdown",
      "id": "5cf6f8f9",
      "metadata": {
        "id": "5cf6f8f9"
      },
      "source": [
        "## Question 8\n",
        "**Write a Python program to:**\n",
        "- Train a **Random Forest Classifier**\n",
        "- **Tune hyperparameters** `max_depth` and `n_estimators` using `GridSearchCV`\n",
        "- Print the **best parameters** and **final accuracy**\n",
        "\n",
        "### Plan & Steps\n",
        "1. Use the Iris dataset for speed.\n",
        "2. Define a grid over `n_estimators` and `max_depth`.\n",
        "3. Run `GridSearchCV` with cross-validation.\n",
        "4. Report best params, CV score, and test accuracy of the best model."
      ]
    },
    {
      "cell_type": "code",
      "execution_count": 4,
      "id": "6245c70c",
      "metadata": {
        "colab": {
          "base_uri": "https://localhost:8080/"
        },
        "id": "6245c70c",
        "outputId": "3cbe34c3-e7b6-40e5-ecee-5eb825d4ceb8"
      },
      "outputs": [
        {
          "output_type": "stream",
          "name": "stdout",
          "text": [
            "Best parameters: {'max_depth': 3, 'n_estimators': 50}\n",
            "Best CV score: 0.9643\n",
            "Final test accuracy with best parameters: 0.9737\n"
          ]
        }
      ],
      "source": [
        "\n",
        "# Question 8 — Grid Search for RandomForestClassifier\n",
        "from sklearn.ensemble import RandomForestClassifier\n",
        "from sklearn.model_selection import GridSearchCV, train_test_split\n",
        "from sklearn.datasets import load_iris\n",
        "from sklearn.metrics import accuracy_score\n",
        "\n",
        "# 1) Load data & split\n",
        "iris = load_iris()\n",
        "X_train_g, X_test_g, y_train_g, y_test_g = train_test_split(\n",
        "    iris.data, iris.target, test_size=0.25, random_state=1, stratify=iris.target\n",
        ")\n",
        "\n",
        "# 2) Define parameter grid\n",
        "param_grid = {\n",
        "    'n_estimators': [50, 100, 150],\n",
        "    'max_depth': [None, 2, 3, 4, 5]\n",
        "}\n",
        "\n",
        "# 3) Grid search\n",
        "rfc = RandomForestClassifier(random_state=1)\n",
        "grid = GridSearchCV(rfc, param_grid, cv=4, n_jobs=-1)\n",
        "grid.fit(X_train_g, y_train_g)\n",
        "\n",
        "print(\"Best parameters:\", grid.best_params_)\n",
        "print(f\"Best CV score: {grid.best_score_:.4f}\")\n",
        "\n",
        "# 4) Evaluate on held-out test set\n",
        "best_model = grid.best_estimator_\n",
        "y_pred = best_model.predict(X_test_g)\n",
        "test_acc = accuracy_score(y_test_g, y_pred)\n",
        "print(f\"Final test accuracy with best parameters: {test_acc:.4f}\")\n"
      ]
    },
    {
      "cell_type": "markdown",
      "id": "6f57edf5",
      "metadata": {
        "id": "6f57edf5"
      },
      "source": [
        "## Question 9\n",
        "**Write a Python program to:**\n",
        "- Train a **Bagging Regressor** and a **Random Forest Regressor** on the **California Housing** dataset\n",
        "- **Compare their Mean Squared Errors (MSE)**\n",
        "\n",
        "### Plan & Steps\n",
        "1. Load California Housing and split.\n",
        "2. Train `BaggingRegressor` (base: `DecisionTreeRegressor`) and `RandomForestRegressor`.\n",
        "3. Compute **MSE** on the test set for both.\n",
        "4. Plot a simple bar chart of the two MSE values."
      ]
    },
    {
      "cell_type": "code",
      "execution_count": 6,
      "id": "d7d2f619",
      "metadata": {
        "colab": {
          "base_uri": "https://localhost:8080/",
          "height": 442
        },
        "id": "d7d2f619",
        "outputId": "b61f064b-8dce-4237-8195-46577efa2b98"
      },
      "outputs": [
        {
          "output_type": "stream",
          "name": "stdout",
          "text": [
            "Bagging Regressor MSE: 0.2593\n",
            "Random Forest Regressor MSE: 0.2542\n"
          ]
        },
        {
          "output_type": "display_data",
          "data": {
            "text/plain": [
              "<Figure size 600x400 with 1 Axes>"
            ],
            "image/png": "[encoded data removed]"
          },
          "metadata": {}
        }
      ],
      "source": [
        "\n",
        "from sklearn.datasets import fetch_california_housing\n",
        "from sklearn.ensemble import BaggingRegressor, RandomForestRegressor\n",
        "from sklearn.tree import DecisionTreeRegressor\n",
        "from sklearn.metrics import mean_squared_error\n",
        "from sklearn.model_selection import train_test_split\n",
        "import matplotlib.pyplot as plt\n",
        "\n",
        "# 1) Load data\n",
        "cal = fetch_california_housing()\n",
        "X, y = cal.data, cal.target\n",
        "\n",
        "# 2) Split\n",
        "X_train_r, X_test_r, y_train_r, y_test_r = train_test_split(\n",
        "    X, y, test_size=0.25, random_state=42\n",
        ")\n",
        "\n",
        "# 3) Train models\n",
        "\n",
        "# Updated: base_estimator -> estimator (for sklearn >= 1.2)\n",
        "bag_reg = BaggingRegressor(\n",
        "    estimator=DecisionTreeRegressor(),\n",
        "    n_estimators=40,\n",
        "    random_state=42\n",
        ")\n",
        "bag_reg.fit(X_train_r, y_train_r)\n",
        "y_pred_bag = bag_reg.predict(X_test_r)\n",
        "mse_bag = mean_squared_error(y_test_r, y_pred_bag)\n",
        "\n",
        "rf_reg = RandomForestRegressor(n_estimators=100, random_state=42)\n",
        "rf_reg.fit(X_train_r, y_train_r)\n",
        "y_pred_rf = rf_reg.predict(X_test_r)\n",
        "mse_rf = mean_squared_error(y_test_r, y_pred_rf)\n",
        "\n",
        "print(f\"Bagging Regressor MSE: {mse_bag:.4f}\")\n",
        "print(f\"Random Forest Regressor MSE: {mse_rf:.4f}\")\n",
        "\n",
        "# 4) Plot the MSEs\n",
        "labels = ['BaggingRegressor', 'RandomForestRegressor']\n",
        "values = [mse_bag, mse_rf]\n",
        "\n",
        "plt.figure(figsize=(6, 4))\n",
        "plt.bar(labels, values)\n",
        "plt.title(\"MSE Comparison on California Housing (Lower is better)\")\n",
        "plt.ylabel(\"Mean Squared Error\")\n",
        "plt.tight_layout()\n",
        "plt.show()\n",
        "\n"
      ]
    },
    {
      "cell_type": "markdown",
      "id": "60963d04",
      "metadata": {
        "id": "60963d04"
      },
      "source": [
        "## Question 10\n",
        "**\n",
        "You are working as a data scientist at a financial institution to predict loan default. You have access to customer demographic and transaction history data.\n",
        "You decide to use ensemble techniques to increase model performance.\n",
        "\n",
        "**Explain your step-by-step approach to:**\n",
        "- Choose between Bagging or Boosting\n",
        "- Handle overfitting\n",
        "- Select base models\n",
        "- Evaluate performance using cross-validation\n",
        "- Justify how ensemble learning improves decision-making in this real-world context.\n",
        "**\n",
        "\n",
        "### Answer\n",
        "\n",
        "**1) Choose between Bagging or Boosting**  \n",
        "- Start with a **Random Forest (Bagging)** baseline: robust, fast, good at reducing variance.  \n",
        "- Compare with **Boosting** (e.g., Gradient Boosting / XGBoost / LightGBM): often higher accuracy by reducing bias.  \n",
        "- Pick based on cross-validated metrics (ROC-AUC, PR-AUC) and stability. If data is noisy/high-variance → Bagging helps; if underfitting/complex relations → Boosting helps.\n",
        "\n",
        "**2) Handle Overfitting**  \n",
        "- **Cross-validation** with stratified folds; **early stopping** for boosting; **regularize** trees (max depth, min samples per leaf).  \n",
        "- Use **feature selection/engineering**, remove leakage/correlated noise.  \n",
        "- Use **subsampling** of rows/columns, **learning rate** for boosting, and limit number of trees.\n",
        "\n",
        "**3) Select Base Models**  \n",
        "- For tabular finance data, **decision trees** are strong base learners.  \n",
        "- Try **logistic regression** baseline for interpretability.  \n",
        "- Consider **stacking**: combine RF/GBM with linear models; meta-learner blends strengths.\n",
        "\n",
        "**4) Evaluate via Cross-Validation**  \n",
        "- Use **Stratified K-fold**; optimize **ROC-AUC** and **Precision-Recall** (class imbalance).  \n",
        "- Track **calibration** (Brier score); choose thresholds by **business cost** (FP vs FN).  \n",
        "- Perform **time-based split** if data is temporal to avoid leakage.\n",
        "\n",
        "**5) Why Ensembles Improve Decisions**  \n",
        "- **Higher accuracy & stability** → fewer bad loans approved, fewer good loans rejected.  \n",
        "- **Consistent risk scores** support interest/pricing and capital allocation.  \n",
        "- **Feature importance & SHAP** give **explanations** for regulators and stakeholders.  \n",
        "- **Robustness** to noise/outliers via aggregation.\n",
        "\n",
        "**Deployment notes:** monitor drift, retrain periodically, and maintain auditability.\n",
        "\n",
        "\n",
        "---"
      ]
    }
  ],
  "metadata": {
    "colab": {
      "provenance": []
    },
    "language_info": {
      "name": "python"
    },
    "kernelspec": {
      "name": "python3",
      "display_name": "Python 3"
    }
  },
  "nbformat": 4,
  "nbformat_minor": 5
}