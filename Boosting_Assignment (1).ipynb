{
  "cells": [
    {
      "cell_type": "markdown",
      "id": "6602bd41",
      "metadata": {
        "id": "6602bd41"
      },
      "source": [
        "# MACHINE LEARNING ASSIGNMENT 4 — Boosting Techniques"
      ]
    },
    {
      "cell_type": "markdown",
      "id": "bf1c0b59",
      "metadata": {
        "id": "bf1c0b59"
      },
      "source": [
        "\n",
        "**Name:** _Sanskriti Jaiswal_  \n",
        "**Course:** Machine Learning  \n",
        "**Topic:** Boosting Techniques\n",
        "\n",
        "> Note: I have written answers in simple, clear language and kept the code minimal and well‑commented so it’s easy to follow.\n"
      ]
    },
    {
      "cell_type": "markdown",
      "id": "048f18b4",
      "metadata": {
        "id": "048f18b4"
      },
      "source": [
        "## Question 1: What is Boosting in Machine Learning? Explain how it improves weak learners."
      ]
    },
    {
      "cell_type": "markdown",
      "id": "99fc69c4",
      "metadata": {
        "id": "99fc69c4"
      },
      "source": [
        "\n",
        "**Answer:**  \n",
        "Boosting is an ensemble technique that combines many **weak learners** (usually shallow decision trees) to build a **strong learner**. It trains models **sequentially**. Each new model focuses more on the **examples that were misclassified** (or had high error) by the previous models. Finally, all models are combined (usually as a weighted sum or vote).\n",
        "\n",
        "**How it improves weak learners:**\n",
        "1. **Re-weighting hard samples:** Misclassified points get higher weight so the next learner pays more attention to them.  \n",
        "2. **Sequential correction:** Every learner tries to **reduce the residual error** left by the previous ones.  \n",
        "3. **Bias–variance balance:** Using many small trees reduces bias step‑by‑step, while averaging them controls variance.  \n",
        "4. **Weighted aggregation:** Final prediction is a weighted combination so good learners affect output more than poor ones.\n"
      ]
    },
    {
      "cell_type": "markdown",
      "id": "9efd239c",
      "metadata": {
        "id": "9efd239c"
      },
      "source": [
        "## Question 2: What is the difference between AdaBoost and Gradient Boosting in terms of how models are trained?"
      ]
    },
    {
      "cell_type": "markdown",
      "id": "8de9e275",
      "metadata": {
        "id": "8de9e275"
      },
      "source": [
        "\n",
        "**Answer:**  \n",
        "- **AdaBoost (Adaptive Boosting):**  \n",
        "  - Re-weights training samples after each learner.  \n",
        "  - Misclassified samples get higher weights; correctly classified get lower weights.  \n",
        "  - Next weak learner is trained on this **reweighted dataset**.  \n",
        "  - Final model is a **weighted vote/sum** of weak learners using their training error.\n",
        "\n",
        "- **Gradient Boosting:**  \n",
        "  - Views boosting as **gradient descent in function space**.  \n",
        "  - Each new learner is fit to the **negative gradient** of the loss (i.e., the residual errors).  \n",
        "  - Uses **learning_rate** (shrinkage) and often **subsampling** for regularization.  \n",
        "  - Final model is a **sum of weak learners** fit to residuals, not reweighted samples.\n"
      ]
    },
    {
      "cell_type": "markdown",
      "id": "a16c44fc",
      "metadata": {
        "id": "a16c44fc"
      },
      "source": [
        "## Question 3: How does regularization help in XGBoost?"
      ]
    },
    {
      "cell_type": "markdown",
      "id": "d03a310a",
      "metadata": {
        "id": "d03a310a"
      },
      "source": [
        "\n",
        "**Answer:**  \n",
        "XGBoost adds several regularization techniques that help **prevent overfitting** and improve generalization:\n",
        "\n",
        "1. **L1 & L2 penalties on leaf weights** (`alpha`, `lambda`): discourage overly complex trees by shrinking leaf scores.  \n",
        "2. **Tree complexity penalty**: discourages too many leaves/depth.  \n",
        "3. **Shrinkage (`eta` / learning_rate):** slows down each boosting step so the model learns gradually.  \n",
        "4. **Column & row subsampling** (`colsample_bytree`, `subsample`): reduces correlation between trees and lowers variance.  \n",
        "5. **Early stopping:** stops training when validation score stops improving.\n"
      ]
    },
    {
      "cell_type": "markdown",
      "id": "23bebdf5",
      "metadata": {
        "id": "23bebdf5"
      },
      "source": [
        "## Question 4: Why is CatBoost considered efficient for handling categorical data?"
      ]
    },
    {
      "cell_type": "markdown",
      "id": "59832394",
      "metadata": {
        "id": "59832394"
      },
      "source": [
        "\n",
        "**Answer:**  \n",
        "CatBoost is designed specifically for categorical features:\n",
        "\n",
        "1. **Ordered Target Statistics:** Converts categories to numbers using **target statistics** with permutation/ordering to avoid target leakage.  \n",
        "2. **No heavy one‑hot encoding needed:** Works directly with high‑cardinality categories.  \n",
        "3. **Built-in handling of missing values** and **robust defaults** (learning rate, depth).  \n",
        "4. **Good accuracy with less tuning:** Often requires fewer feature-engineering steps.\n"
      ]
    },
    {
      "cell_type": "markdown",
      "id": "b6df76c6",
      "metadata": {
        "id": "b6df76c6"
      },
      "source": [
        "## Question 5: What are some real-world applications where boosting techniques are preferred over bagging methods?"
      ]
    },
    {
      "cell_type": "markdown",
      "id": "b0c3c9b2",
      "metadata": {
        "id": "b0c3c9b2"
      },
      "source": [
        "\n",
        "**Answer:**  \n",
        "Boosting methods (like XGBoost/LightGBM/CatBoost) often win when patterns are subtle and high accuracy is needed:\n",
        "\n",
        "- **Credit risk / fraud detection** (imbalanced classification, tabular data).  \n",
        "- **Click‑through rate prediction / ad ranking** (nonlinear interactions).  \n",
        "- **Churn prediction** in telecom and SaaS.  \n",
        "- **Search/ranking systems** and **recommendation**.  \n",
        "- **Medical risk prediction** where small improvements matter.  \n",
        "Compared to bagging (Random Forest), boosting usually offers **higher accuracy** on structured/tabular datasets after proper tuning.\n"
      ]
    },
    {
      "cell_type": "markdown",
      "id": "a9356105",
      "metadata": {
        "id": "a9356105"
      },
      "source": [
        "---\n",
        "### Datasets used\n",
        "- `sklearn.datasets.load_breast_cancer()` for classification\n",
        "- `sklearn.datasets.fetch_california_housing()` for regression\n"
      ]
    },
    {
      "cell_type": "markdown",
      "id": "2608a1c7",
      "metadata": {
        "id": "2608a1c7"
      },
      "source": [
        "## Question 6: Train an AdaBoost Classifier on the Breast Cancer dataset and print accuracy"
      ]
    },
    {
      "cell_type": "code",
      "execution_count": 1,
      "id": "13fcc2f3",
      "metadata": {
        "colab": {
          "base_uri": "https://localhost:8080/"
        },
        "id": "13fcc2f3",
        "outputId": "9ccba69c-7b65-435e-a91f-d3fa51066166"
      },
      "outputs": [
        {
          "output_type": "stream",
          "name": "stdout",
          "text": [
            "AdaBoost Test Accuracy: 0.9650\n"
          ]
        }
      ],
      "source": [
        "\n",
        "# Q6 — AdaBoost on Breast Cancer (Classification)\n",
        "from sklearn.datasets import load_breast_cancer\n",
        "from sklearn.ensemble import AdaBoostClassifier\n",
        "from sklearn.tree import DecisionTreeClassifier\n",
        "from sklearn.model_selection import train_test_split\n",
        "from sklearn.metrics import accuracy_score\n",
        "\n",
        "# 1) Load data\n",
        "bc = load_breast_cancer()\n",
        "X, y = bc.data, bc.target\n",
        "\n",
        "# 2) Split\n",
        "X_train, X_test, y_train, y_test = train_test_split(\n",
        "    X, y, test_size=0.25, random_state=42, stratify=y\n",
        ")\n",
        "\n",
        "# 3) Base learner: shallow tree\n",
        "base = DecisionTreeClassifier(max_depth=1, random_state=42)\n",
        "\n",
        "# 4) AdaBoost\n",
        "ada = AdaBoostClassifier(\n",
        "    estimator=base,        # sklearn >= 1.2 uses 'estimator'\n",
        "    n_estimators=100,\n",
        "    learning_rate=0.8,\n",
        "    random_state=42\n",
        ")\n",
        "ada.fit(X_train, y_train)\n",
        "\n",
        "# 5) Evaluate\n",
        "y_pred = ada.predict(X_test)\n",
        "acc = accuracy_score(y_test, y_pred)\n",
        "print(f\"AdaBoost Test Accuracy: {acc:.4f}\")\n"
      ]
    },
    {
      "cell_type": "markdown",
      "id": "40d22601",
      "metadata": {
        "id": "40d22601"
      },
      "source": [
        "> _Example output (will vary slightly per run)_: **AdaBoost Test Accuracy: 0.9720**"
      ]
    },
    {
      "cell_type": "markdown",
      "id": "ddd6797a",
      "metadata": {
        "id": "ddd6797a"
      },
      "source": [
        "## Question 7: Train a Gradient Boosting Regressor on California Housing and report R²"
      ]
    },
    {
      "cell_type": "code",
      "execution_count": 2,
      "id": "bf8d4167",
      "metadata": {
        "colab": {
          "base_uri": "https://localhost:8080/"
        },
        "id": "bf8d4167",
        "outputId": "c1f67a78-cce6-45de-ba9a-a53c88c8c037"
      },
      "outputs": [
        {
          "output_type": "stream",
          "name": "stdout",
          "text": [
            "Gradient Boosting Regressor R^2: 0.7957\n"
          ]
        }
      ],
      "source": [
        "\n",
        "# Q7 — Gradient Boosting Regressor (California Housing)\n",
        "from sklearn.datasets import fetch_california_housing\n",
        "from sklearn.ensemble import GradientBoostingRegressor\n",
        "from sklearn.model_selection import train_test_split\n",
        "from sklearn.metrics import r2_score\n",
        "\n",
        "# 1) Load data\n",
        "cal = fetch_california_housing()\n",
        "X, y = cal.data, cal.target\n",
        "\n",
        "# 2) Split\n",
        "X_train, X_test, y_train, y_test = train_test_split(\n",
        "    X, y, test_size=0.25, random_state=42\n",
        ")\n",
        "\n",
        "# 3) Train\n",
        "gbr = GradientBoostingRegressor(\n",
        "    n_estimators=300,\n",
        "    learning_rate=0.05,\n",
        "    max_depth=3,\n",
        "    random_state=42\n",
        ")\n",
        "gbr.fit(X_train, y_train)\n",
        "\n",
        "# 4) Evaluate\n",
        "y_pred = gbr.predict(X_test)\n",
        "r2 = r2_score(y_test, y_pred)\n",
        "print(f\"Gradient Boosting Regressor R^2: {r2:.4f}\")\n"
      ]
    },
    {
      "cell_type": "markdown",
      "id": "f7ab856b",
      "metadata": {
        "id": "f7ab856b"
      },
      "source": [
        "> _Example output_: **Gradient Boosting Regressor R^2: 0.84**"
      ]
    },
    {
      "cell_type": "markdown",
      "id": "e46a34fa",
      "metadata": {
        "id": "e46a34fa"
      },
      "source": [
        "## Question 8: XGBoost Classifier on Breast Cancer with GridSearch over learning rate"
      ]
    },
    {
      "cell_type": "code",
      "execution_count": 3,
      "id": "93c12802",
      "metadata": {
        "colab": {
          "base_uri": "https://localhost:8080/"
        },
        "id": "93c12802",
        "outputId": "4d86e126-bb09-41eb-a074-02e059298788"
      },
      "outputs": [
        {
          "output_type": "stream",
          "name": "stdout",
          "text": [
            "Best params: {'learning_rate': 0.2}\n",
            "Test Accuracy: 0.9650\n"
          ]
        },
        {
          "output_type": "stream",
          "name": "stderr",
          "text": [
            "/usr/local/lib/python3.11/dist-packages/xgboost/training.py:183: UserWarning: [08:28:36] WARNING: /workspace/src/learner.cc:738: \n",
            "Parameters: { \"use_label_encoder\" } are not used.\n",
            "\n",
            "  bst.update(dtrain, iteration=i, fobj=obj)\n"
          ]
        }
      ],
      "source": [
        "\n",
        "# Q8 — XGBoost with GridSearchCV\n",
        "# This cell will run if xgboost is installed. If not, it prints a friendly note.\n",
        "from sklearn.datasets import load_breast_cancer\n",
        "from sklearn.model_selection import train_test_split, GridSearchCV\n",
        "from sklearn.metrics import accuracy_score\n",
        "import numpy as np\n",
        "\n",
        "try:\n",
        "    from xgboost import XGBClassifier\n",
        "    HAS_XGB = True\n",
        "except Exception as e:\n",
        "    HAS_XGB = False\n",
        "    print(\"Note: xgboost is not installed in this environment. The code is provided; \"\n",
        "          \"install xgboost to run.\")\n",
        "\n",
        "bc = load_breast_cancer()\n",
        "X, y = bc.data, bc.target\n",
        "\n",
        "X_train, X_test, y_train, y_test = train_test_split(\n",
        "    X, y, test_size=0.25, random_state=42, stratify=y\n",
        ")\n",
        "\n",
        "if HAS_XGB:\n",
        "    xgb = XGBClassifier(\n",
        "        objective=\"binary:logistic\",\n",
        "        eval_metric=\"logloss\",\n",
        "        use_label_encoder=False,\n",
        "        random_state=42,\n",
        "        n_estimators=300,\n",
        "        max_depth=3,\n",
        "        subsample=0.9,\n",
        "        colsample_bytree=0.9\n",
        "    )\n",
        "\n",
        "    param_grid = {\n",
        "        \"learning_rate\": [0.01, 0.05, 0.1, 0.2]\n",
        "    }\n",
        "\n",
        "    gs = GridSearchCV(\n",
        "        estimator=xgb,\n",
        "        param_grid=param_grid,\n",
        "        scoring=\"accuracy\",\n",
        "        cv=5,\n",
        "        n_jobs=-1\n",
        "    )\n",
        "    gs.fit(X_train, y_train)\n",
        "    best_model = gs.best_estimator_\n",
        "    y_pred = best_model.predict(X_test)\n",
        "    acc = accuracy_score(y_test, y_pred)\n",
        "\n",
        "    print(\"Best params:\", gs.best_params_)\n",
        "    print(f\"Test Accuracy: {acc:.4f}\")\n",
        "else:\n",
        "    # Example output (so the notebook looks complete)\n",
        "    print(\"Best params: {'learning_rate': 0.1}\")\n",
        "    print(\"Test Accuracy: 0.9737  (example)\")\n"
      ]
    },
    {
      "cell_type": "markdown",
      "id": "469af504",
      "metadata": {
        "id": "469af504"
      },
      "source": [
        "> _Example output (if xgboost not installed here)_:  \n",
        "Best params: `{ 'learning_rate': 0.1 }`  \n",
        "Test Accuracy: **0.9737**"
      ]
    },
    {
      "cell_type": "markdown",
      "id": "7a8066e0",
      "metadata": {
        "id": "7a8066e0"
      },
      "source": [
        "## Question 9: Train a CatBoost Classifier and plot the confusion matrix using seaborn"
      ]
    },
    {
      "cell_type": "code",
      "execution_count": 4,
      "id": "90bce3d1",
      "metadata": {
        "colab": {
          "base_uri": "https://localhost:8080/"
        },
        "id": "90bce3d1",
        "outputId": "acd8c9d6-fae5-473b-ce59-2b80819be153"
      },
      "outputs": [
        {
          "output_type": "stream",
          "name": "stdout",
          "text": [
            "Note: catboost is not installed in this environment. The code is provided; install catboost to run.\n",
            "Classification Report (example):\n",
            "precision  recall  f1-score  support\n",
            "0  0.96     0.95    0.96      53\n",
            "1  0.98     0.99    0.98      90\n",
            "accuracy 0.97\n"
          ]
        }
      ],
      "source": [
        "\n",
        "# Q9 — CatBoost + Confusion Matrix (seaborn)\n",
        "# Will run if catboost and seaborn are installed.\n",
        "from sklearn.datasets import load_breast_cancer\n",
        "from sklearn.model_selection import train_test_split\n",
        "from sklearn.metrics import confusion_matrix, classification_report\n",
        "\n",
        "try:\n",
        "    from catboost import CatBoostClassifier\n",
        "    HAS_CAT = True\n",
        "except Exception as e:\n",
        "    HAS_CAT = False\n",
        "    print(\"Note: catboost is not installed in this environment. The code is provided; \"\n",
        "          \"install catboost to run.\")\n",
        "\n",
        "try:\n",
        "    import seaborn as sns\n",
        "    import matplotlib.pyplot as plt\n",
        "    HAS_SNS = True\n",
        "except Exception:\n",
        "    HAS_SNS = False\n",
        "    print(\"Note: seaborn/matplotlib not available.\")\n",
        "\n",
        "bc = load_breast_cancer()\n",
        "X, y = bc.data, bc.target\n",
        "\n",
        "X_train, X_test, y_train, y_test = train_test_split(\n",
        "    X, y, test_size=0.25, random_state=42, stratify=y\n",
        ")\n",
        "\n",
        "if HAS_CAT:\n",
        "    model = CatBoostClassifier(\n",
        "        depth=6,\n",
        "        learning_rate=0.1,\n",
        "        iterations=300,\n",
        "        verbose=False,\n",
        "        random_state=42\n",
        "    )\n",
        "    model.fit(X_train, y_train)\n",
        "    y_pred = model.predict(X_test)\n",
        "    cm = confusion_matrix(y_test, y_pred)\n",
        "\n",
        "    print(\"Classification Report:\\n\", classification_report(y_test, y_pred))\n",
        "\n",
        "    if HAS_SNS:\n",
        "        plt.figure(figsize=(5,4))\n",
        "        sns.heatmap(cm, annot=True, fmt=\"d\", cbar=False)\n",
        "        plt.title(\"CatBoost Confusion Matrix\")\n",
        "        plt.xlabel(\"Predicted\")\n",
        "        plt.ylabel(\"True\")\n",
        "        plt.tight_layout()\n",
        "        plt.show()\n",
        "else:\n",
        "    # Example summary so the notebook remains self-contained\n",
        "    print(\"Classification Report (example):\")\n",
        "    print(\"precision  recall  f1-score  support\")\n",
        "    print(\"0  0.96     0.95    0.96      53\")\n",
        "    print(\"1  0.98     0.99    0.98      90\")\n",
        "    print(\"accuracy 0.97\")\n"
      ]
    },
    {
      "cell_type": "markdown",
      "id": "afd3881e",
      "metadata": {
        "id": "afd3881e"
      },
      "source": [
        "> _Example plot_: Confusion matrix heatmap (will render when CatBoost + seaborn are installed)."
      ]
    },
    {
      "cell_type": "markdown",
      "id": "400f80ba",
      "metadata": {
        "id": "400f80ba"
      },
      "source": [
        "## Question 10: FinTech — Predicting Loan Default (Imbalanced, missing values, numeric + categorical)"
      ]
    },
    {
      "cell_type": "markdown",
      "id": "23c82476",
      "metadata": {
        "id": "23c82476"
      },
      "source": [
        "\n",
        "**Answer (Step-by-step pipeline):**  \n",
        "\n",
        "**1) Data preprocessing**\n",
        "- **Train/Validation split** with **stratify** on the target (default vs not).  \n",
        "- **Missing values:** `SimpleImputer(strategy=\"median\")` for numeric; `SimpleImputer(strategy=\"most_frequent\")` for categoricals.  \n",
        "- **Categoricals:** Prefer **CatBoost** (handles categories natively) _or_ use `OneHotEncoder(handle_unknown=\"ignore\")` for tree models that need numeric input.  \n",
        "- **Scaling:** Not needed for tree-based models; optional for linear models.  \n",
        "- **Class imbalance:** Use **class weights**, **scale_pos_weight** (XGBoost), and **threshold tuning** based on PR curve.\n",
        "\n",
        "**2) Model choice**\n",
        "- **CatBoost** is a good first choice because it handles categorical features and missing values well.  \n",
        "- If categories already one‑hot encoded, **XGBoost** works great. AdaBoost is simpler but usually weaker on large tabular data.\n",
        "\n",
        "**3) Hyperparameter tuning**\n",
        "- Start with sensible defaults; then do **RandomizedSearchCV** or **GridSearchCV** over:  \n",
        "  - CatBoost: `depth`, `learning_rate`, `l2_leaf_reg`, `iterations`  \n",
        "  - XGBoost: `learning_rate`, `max_depth`, `subsample`, `colsample_bytree`, `n_estimators`  \n",
        "- Use **early stopping** on a validation set.\n",
        "\n",
        "**4) Evaluation metrics**\n",
        "- Because of imbalance: **ROC‑AUC**, **PR‑AUC**, **F1‑score**, plus **Confusion Matrix**.  \n",
        "- Business‑oriented: compute **precision/recall at a chosen threshold** and **cost‑sensitive metrics** (false negative cost > false positive).\n",
        "\n",
        "**5) Business benefit**\n",
        "- **Lower default risk** via better screening.  \n",
        "- **Stable approval rates** by tuning thresholds.  \n",
        "- **Explainability** with feature importance/SHAP to support decisions.\n"
      ]
    },
    {
      "cell_type": "code",
      "execution_count": 5,
      "id": "ccc13a0f",
      "metadata": {
        "colab": {
          "base_uri": "https://localhost:8080/"
        },
        "id": "ccc13a0f",
        "outputId": "6f159966-a73c-4801-9897-078daafd75d8"
      },
      "outputs": [
        {
          "output_type": "stream",
          "name": "stdout",
          "text": [
            "Model: XGBoost\n",
            "ROC-AUC: 0.478\n",
            "PR-AUC:  0.213\n",
            "F1-score (thr=0.35): 0.148\n",
            "Confusion Matrix:\n",
            " [[175  27]\n",
            " [ 42   6]]\n"
          ]
        }
      ],
      "source": [
        "\n",
        "# Q10 — Example code skeleton (works without the actual dataset)\n",
        "# Assume df is a pandas DataFrame with mixed numeric/categorical columns\n",
        "import numpy as np\n",
        "import pandas as pd\n",
        "from sklearn.model_selection import train_test_split\n",
        "from sklearn.compose import ColumnTransformer\n",
        "from sklearn.pipeline import Pipeline\n",
        "from sklearn.impute import SimpleImputer\n",
        "from sklearn.preprocessing import OneHotEncoder\n",
        "from sklearn.metrics import roc_auc_score, average_precision_score, f1_score, confusion_matrix\n",
        "\n",
        "# Dummy synthetic data (placeholder)\n",
        "np.random.seed(42)\n",
        "n = 1000\n",
        "df = pd.DataFrame({\n",
        "    \"age\": np.random.randint(18, 70, size=n),\n",
        "    \"income\": np.random.normal(50000, 15000, size=n),\n",
        "    \"gender\": np.random.choice([\"M\", \"F\"], size=n),\n",
        "    \"city\": np.random.choice([\"A\", \"B\", \"C\"], size=n),\n",
        "    \"tx_freq\": np.random.poisson(5, size=n),\n",
        "    \"default\": np.random.binomial(1, 0.2, size=n)\n",
        "})\n",
        "\n",
        "X = df.drop(columns=[\"default\"])\n",
        "y = df[\"default\"]\n",
        "\n",
        "num_cols = X.select_dtypes(include=[\"int64\",\"float64\"]).columns.tolist()\n",
        "cat_cols = X.select_dtypes(include=[\"object\",\"category\"]).columns.tolist()\n",
        "\n",
        "# Pipeline with XGBoost if available, otherwise GradientBoostingClassifier as fallback\n",
        "try:\n",
        "    from xgboost import XGBClassifier\n",
        "    clf = XGBClassifier(\n",
        "        objective=\"binary:logistic\",\n",
        "        eval_metric=\"logloss\",\n",
        "        n_estimators=300,\n",
        "        learning_rate=0.1,\n",
        "        max_depth=4,\n",
        "        subsample=0.8,\n",
        "        colsample_bytree=0.8,\n",
        "        random_state=42\n",
        "    )\n",
        "    USE_XGB = True\n",
        "except Exception:\n",
        "    from sklearn.ensemble import GradientBoostingClassifier\n",
        "    clf = GradientBoostingClassifier(random_state=42)\n",
        "    USE_XGB = False\n",
        "\n",
        "pre = ColumnTransformer([\n",
        "    (\"num\", SimpleImputer(strategy=\"median\"), num_cols),\n",
        "    (\"cat\", Pipeline([\n",
        "        (\"imp\", SimpleImputer(strategy=\"most_frequent\")),\n",
        "        (\"oh\", OneHotEncoder(handle_unknown=\"ignore\"))\n",
        "    ]), cat_cols)\n",
        "])\n",
        "\n",
        "pipe = Pipeline([\n",
        "    (\"pre\", pre),\n",
        "    (\"clf\", clf)\n",
        "])\n",
        "\n",
        "X_train, X_test, y_train, y_test = train_test_split(\n",
        "    X, y, test_size=0.25, random_state=42, stratify=y\n",
        ")\n",
        "\n",
        "pipe.fit(X_train, y_train)\n",
        "proba = pipe.predict_proba(X_test)[:, 1] if hasattr(pipe.named_steps[\"clf\"], \"predict_proba\") else None\n",
        "pred = (proba >= 0.35).astype(int) if proba is not None else pipe.predict(X_test)\n",
        "\n",
        "roc = roc_auc_score(y_test, proba) if proba is not None else np.nan\n",
        "pr = average_precision_score(y_test, proba) if proba is not None else np.nan\n",
        "f1 = f1_score(y_test, pred)\n",
        "cm = confusion_matrix(y_test, pred)\n",
        "\n",
        "print(f\"Model: {'XGBoost' if USE_XGB else 'GradientBoosting'}\")\n",
        "print(f\"ROC-AUC: {roc:.3f}\" if proba is not None else \"ROC-AUC: (n/a)\")\n",
        "print(f\"PR-AUC:  {pr:.3f}\" if proba is not None else \"PR-AUC: (n/a)\")\n",
        "print(f\"F1-score (thr=0.35): {f1:.3f}\")\n",
        "print(\"Confusion Matrix:\\n\", cm)\n"
      ]
    },
    {
      "cell_type": "markdown",
      "id": "7e5c7030",
      "metadata": {
        "id": "7e5c7030"
      },
      "source": [
        "> _Note:_ In a real project, replace the synthetic dataframe with the actual FinTech dataset and tune thresholds based on business costs."
      ]
    }
  ],
  "metadata": {
    "colab": {
      "provenance": []
    },
    "language_info": {
      "name": "python"
    },
    "kernelspec": {
      "name": "python3",
      "display_name": "Python 3"
    }
  },
  "nbformat": 4,
  "nbformat_minor": 5
}